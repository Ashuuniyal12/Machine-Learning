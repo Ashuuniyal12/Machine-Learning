{
 "cells": [
  {
   "cell_type": "code",
   "execution_count": 1,
   "id": "5e0881fb",
   "metadata": {},
   "outputs": [],
   "source": [
    "import numpy as np\n",
    "import pandas as pd \n",
    "from sklearn.feature_extraction.text import CountVectorizer\n",
    "from sklearn.metrics.pairwise import cosine_similarity"
   ]
  },
  {
   "cell_type": "code",
   "execution_count": 2,
   "id": "85ca3d6e",
   "metadata": {},
   "outputs": [],
   "source": [
    "def get_index_from_title(title):\n",
    "    return df[df.title == title][\"index\"].values[0]\n",
    "def get_title_index(index):\n",
    "    return df[df.index == index][\"title\"].values[0]"
   ]
  },
  {
   "cell_type": "markdown",
   "id": "69f6013f",
   "metadata": {},
   "source": [
    "# Read a CSV"
   ]
  },
  {
   "cell_type": "code",
   "execution_count": 3,
   "id": "b74d45e2",
   "metadata": {},
   "outputs": [
    {
     "data": {
      "text/html": [
       "<div>\n",
       "<style scoped>\n",
       "    .dataframe tbody tr th:only-of-type {\n",
       "        vertical-align: middle;\n",
       "    }\n",
       "\n",
       "    .dataframe tbody tr th {\n",
       "        vertical-align: top;\n",
       "    }\n",
       "\n",
       "    .dataframe thead th {\n",
       "        text-align: right;\n",
       "    }\n",
       "</style>\n",
       "<table border=\"1\" class=\"dataframe\">\n",
       "  <thead>\n",
       "    <tr style=\"text-align: right;\">\n",
       "      <th></th>\n",
       "      <th>title</th>\n",
       "      <th>imdb</th>\n",
       "      <th>duration</th>\n",
       "      <th>country</th>\n",
       "      <th>genre</th>\n",
       "      <th>director</th>\n",
       "      <th>index</th>\n",
       "    </tr>\n",
       "  </thead>\n",
       "  <tbody>\n",
       "    <tr>\n",
       "      <th>0</th>\n",
       "      <td>The Souvenir: Part II</td>\n",
       "      <td>7.9</td>\n",
       "      <td>107 min</td>\n",
       "      <td>United Kingdom</td>\n",
       "      <td>Drama</td>\n",
       "      <td>Joanna Hogg</td>\n",
       "      <td>1</td>\n",
       "    </tr>\n",
       "    <tr>\n",
       "      <th>1</th>\n",
       "      <td>Passing</td>\n",
       "      <td>6.8</td>\n",
       "      <td>98 min</td>\n",
       "      <td>United States, United Kingdom</td>\n",
       "      <td>Drama</td>\n",
       "      <td>Rebecca Hall</td>\n",
       "      <td>2</td>\n",
       "    </tr>\n",
       "    <tr>\n",
       "      <th>2</th>\n",
       "      <td>Hideout</td>\n",
       "      <td>9.0</td>\n",
       "      <td>na min</td>\n",
       "      <td>United States</td>\n",
       "      <td>Thriller, Mystery, Horror</td>\n",
       "      <td>Kris Roselli</td>\n",
       "      <td>3</td>\n",
       "    </tr>\n",
       "    <tr>\n",
       "      <th>3</th>\n",
       "      <td>Clifford the Big Red Dog</td>\n",
       "      <td>7.4</td>\n",
       "      <td>97 min</td>\n",
       "      <td>United States, United Kingdom, Canada</td>\n",
       "      <td>Animation, Comedy, Adventure</td>\n",
       "      <td>Walt Becker</td>\n",
       "      <td>4</td>\n",
       "    </tr>\n",
       "    <tr>\n",
       "      <th>4</th>\n",
       "      <td>Adopted</td>\n",
       "      <td>0.0</td>\n",
       "      <td>na min</td>\n",
       "      <td>United States</td>\n",
       "      <td>Drama, Horror</td>\n",
       "      <td>Adrian Jules</td>\n",
       "      <td>5</td>\n",
       "    </tr>\n",
       "  </tbody>\n",
       "</table>\n",
       "</div>"
      ],
      "text/plain": [
       "                      title  imdb duration  \\\n",
       "0     The Souvenir: Part II   7.9  107 min   \n",
       "1                   Passing   6.8   98 min   \n",
       "2                   Hideout   9.0   na min   \n",
       "3  Clifford the Big Red Dog   7.4   97 min   \n",
       "4                   Adopted   0.0   na min   \n",
       "\n",
       "                                   country                           genre  \\\n",
       "0                          United Kingdom                           Drama    \n",
       "1           United States, United Kingdom                           Drama    \n",
       "2                           United States       Thriller, Mystery, Horror    \n",
       "3   United States, United Kingdom, Canada    Animation, Comedy, Adventure    \n",
       "4                           United States                   Drama, Horror    \n",
       "\n",
       "       director  index  \n",
       "0   Joanna Hogg      1  \n",
       "1  Rebecca Hall      2  \n",
       "2  Kris Roselli      3  \n",
       "3   Walt Becker      4  \n",
       "4  Adrian Jules      5  "
      ]
     },
     "execution_count": 3,
     "metadata": {},
     "output_type": "execute_result"
    }
   ],
   "source": [
    "df = pd.read_csv('movies.csv',low_memory=False)\n",
    "df.head()"
   ]
  },
  {
   "cell_type": "code",
   "execution_count": 4,
   "id": "94c313c3",
   "metadata": {},
   "outputs": [
    {
     "name": "stdout",
     "output_type": "stream",
     "text": [
      "Index(['title', 'imdb', 'duration', 'country', 'genre', 'director', 'index'], dtype='object')\n"
     ]
    }
   ],
   "source": [
    "print (df.columns)"
   ]
  },
  {
   "cell_type": "markdown",
   "id": "a9e087c0",
   "metadata": {},
   "source": [
    "# Select features"
   ]
  },
  {
   "cell_type": "code",
   "execution_count": 5,
   "id": "3eb2480a",
   "metadata": {},
   "outputs": [],
   "source": [
    "features = ['genre','director']"
   ]
  },
  {
   "cell_type": "markdown",
   "id": "b1a8758a",
   "metadata": {},
   "source": [
    "##  Create a column in DF which combine all selected features"
   ]
  },
  {
   "cell_type": "code",
   "execution_count": null,
   "id": "1dacc14c",
   "metadata": {},
   "outputs": [],
   "source": [
    "for element in features:\n",
    "    df[element] = df[element].fillna(' ')"
   ]
  },
  {
   "cell_type": "code",
   "execution_count": 6,
   "id": "409a905a",
   "metadata": {},
   "outputs": [],
   "source": [
    "def combine_features(row):\n",
    "    return row['genre']+\" \"+row['director']"
   ]
  },
  {
   "cell_type": "code",
   "execution_count": 7,
   "id": "aa70c187",
   "metadata": {},
   "outputs": [],
   "source": [
    "df[\"combined_features\"] = df.apply(combine_features,axis=1)"
   ]
  },
  {
   "cell_type": "code",
   "execution_count": 8,
   "id": "78286f72",
   "metadata": {},
   "outputs": [
    {
     "name": "stdout",
     "output_type": "stream",
     "text": [
      "combined features: =  0                            Drama  Joanna Hogg\n",
      "1                           Drama  Rebecca Hall\n",
      "2       Thriller, Mystery, Horror  Kris Roselli\n",
      "3     Animation, Comedy, Adventure  Walt Becker\n",
      "4                   Drama, Horror  Adrian Jules\n",
      "Name: combined_features, dtype: object\n"
     ]
    }
   ],
   "source": [
    "print ( \"combined features: = \",df[\"combined_features\"].head())"
   ]
  },
  {
   "cell_type": "markdown",
   "id": "01f115c3",
   "metadata": {},
   "source": [
    "## Create a count matrix from this new column"
   ]
  },
  {
   "cell_type": "code",
   "execution_count": 9,
   "id": "79086d62",
   "metadata": {},
   "outputs": [],
   "source": [
    "countv = CountVectorizer()\n",
    "count_matrixes = countv.fit_transform(df[\"combined_features\"])"
   ]
  },
  {
   "cell_type": "markdown",
   "id": "e930379a",
   "metadata": {},
   "source": [
    "## Coumpute cosine similarity based on the count matrix"
   ]
  },
  {
   "cell_type": "code",
   "execution_count": 10,
   "id": "322c8298",
   "metadata": {},
   "outputs": [],
   "source": [
    "cosin_sim = cosine_similarity(count_matrixes)"
   ]
  },
  {
   "cell_type": "code",
   "execution_count": 16,
   "id": "8f03f5ec",
   "metadata": {},
   "outputs": [
    {
     "name": "stdout",
     "output_type": "stream",
     "text": [
      "Enter a Movie You would like to watchTitanic\n"
     ]
    }
   ],
   "source": [
    "movie_user_like = input(\"Enter a Movie You would like to watch \")"
   ]
  },
  {
   "cell_type": "markdown",
   "id": "8ea91b19",
   "metadata": {},
   "source": [
    "## get the index of the movie from the DF based on the title entered"
   ]
  },
  {
   "cell_type": "code",
   "execution_count": 17,
   "id": "2bf2f8dc",
   "metadata": {},
   "outputs": [],
   "source": [
    "movie_index = get_index_from_title(movie_user_like)"
   ]
  },
  {
   "cell_type": "markdown",
   "id": "aa10802b",
   "metadata": {},
   "source": [
    "## get list of similar movies based in descending order of similar score"
   ]
  },
  {
   "cell_type": "code",
   "execution_count": 18,
   "id": "dd02a4f5",
   "metadata": {},
   "outputs": [],
   "source": [
    "similar_movies = list(enumerate(cosin_sim[movie_index]))"
   ]
  },
  {
   "cell_type": "code",
   "execution_count": 19,
   "id": "20164613",
   "metadata": {},
   "outputs": [],
   "source": [
    "sorted_similar_movies = sorted(similar_movies,key = lambda x:x[1],reverse=True)"
   ]
  },
  {
   "cell_type": "code",
   "execution_count": 20,
   "id": "3760c8e0",
   "metadata": {},
   "outputs": [
    {
     "name": "stdout",
     "output_type": "stream",
     "text": [
      "Similar movies to Watch :)\n",
      "Rosewood\n",
      "Battle for Incheon: Operation Chromite\n",
      "Against the Wall\n",
      "The Rising Hawk\n",
      "Red Cliff\n",
      "Four Brothers\n",
      "Beyond Rangoon\n",
      "Tombstone\n",
      "Poetic Justice\n",
      "Boyz N The Hood\n",
      "Matewan\n"
     ]
    }
   ],
   "source": [
    "print(\"Similar movies to Watch :)\")\n",
    "i =0\n",
    "for movie in sorted_similar_movies:\n",
    "    print( get_title_index(movie[0]))\n",
    "    i=i+1\n",
    "    if i> 10:\n",
    "        break;"
   ]
  },
  {
   "cell_type": "code",
   "execution_count": null,
   "id": "e528b2cb",
   "metadata": {},
   "outputs": [],
   "source": []
  }
 ],
 "metadata": {
  "kernelspec": {
   "display_name": "Python 3",
   "language": "python",
   "name": "python3"
  },
  "language_info": {
   "codemirror_mode": {
    "name": "ipython",
    "version": 3
   },
   "file_extension": ".py",
   "mimetype": "text/x-python",
   "name": "python",
   "nbconvert_exporter": "python",
   "pygments_lexer": "ipython3",
   "version": "3.8.8"
  }
 },
 "nbformat": 4,
 "nbformat_minor": 5
}
